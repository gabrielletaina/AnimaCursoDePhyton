{
  "cells": [
    {
      "cell_type": "markdown",
      "metadata": {
        "id": "view-in-github",
        "colab_type": "text"
      },
      "source": [
        "<a href=\"https://colab.research.google.com/github/gabrielletaina/AnimaCursoDePhyton/blob/main/Aula_Phyton_08_02.ipynb\" target=\"_parent\"><img src=\"https://colab.research.google.com/assets/colab-badge.svg\" alt=\"Open In Colab\"/></a>"
      ]
    },
    {
      "cell_type": "markdown",
      "source": [
        "AULA 07/02"
      ],
      "metadata": {
        "id": "zG3KfdmO5V_i"
      }
    },
    {
      "cell_type": "markdown",
      "source": [
        "importando arquivo e chamando biblioteca pandas"
      ],
      "metadata": {
        "id": "FLExyzI4-sup"
      }
    },
    {
      "cell_type": "code",
      "source": [
        "import pandas as pd"
      ],
      "metadata": {
        "id": "2TXIKWrK5X2F"
      },
      "execution_count": 13,
      "outputs": []
    },
    {
      "cell_type": "code",
      "source": [
        "combustiveis_df = pd.read_excel(\"ca-2021-02.xlsx\")"
      ],
      "metadata": {
        "id": "Bmtqq8Y4JnUb"
      },
      "execution_count": 15,
      "outputs": []
    },
    {
      "cell_type": "markdown",
      "source": [],
      "metadata": {
        "id": "985rCfRqBmQE"
      }
    },
    {
      "cell_type": "code",
      "source": [
        "print(combustiveis_df)"
      ],
      "metadata": {
        "id": "2vdJzKG1BNGK"
      },
      "execution_count": null,
      "outputs": []
    },
    {
      "cell_type": "code",
      "source": [
        "display(combustiveis_df)"
      ],
      "metadata": {
        "id": "cPpzMeLdCNtv"
      },
      "execution_count": null,
      "outputs": []
    },
    {
      "cell_type": "code",
      "source": [
        "display(combustiveis_df.head(15))"
      ],
      "metadata": {
        "id": "IVNtPidvCfPO"
      },
      "execution_count": null,
      "outputs": []
    },
    {
      "cell_type": "code",
      "source": [
        "display(combustiveis_df.shape)"
      ],
      "metadata": {
        "id": "6xz-baOJLuoa"
      },
      "execution_count": null,
      "outputs": []
    },
    {
      "cell_type": "markdown",
      "source": [
        "Mostra as estatitiscas mais básicas "
      ],
      "metadata": {
        "id": "6sWLmSqVTuYI"
      }
    },
    {
      "cell_type": "code",
      "source": [
        "display(combustiveis_df.describe())"
      ],
      "metadata": {
        "id": "_hl2b-zrMEH8"
      },
      "execution_count": null,
      "outputs": []
    },
    {
      "cell_type": "markdown",
      "source": [
        "Mostra o tipo de cada info"
      ],
      "metadata": {
        "id": "unPV2JMxT29V"
      }
    },
    {
      "cell_type": "code",
      "source": [
        "display(combustiveis_df.info())"
      ],
      "metadata": {
        "id": "OxAeyBeoNm1A"
      },
      "execution_count": null,
      "outputs": []
    },
    {
      "cell_type": "markdown",
      "source": [
        "  FILTRAR SOMENTE 1 COLUNA"
      ],
      "metadata": {
        "id": "xkE6DOBkYXy3"
      }
    },
    {
      "cell_type": "code",
      "source": [
        "display(combustiveis_df['Revenda'])"
      ],
      "metadata": {
        "id": "eZnv8VdHYbhP"
      },
      "execution_count": null,
      "outputs": []
    },
    {
      "cell_type": "code",
      "source": [
        "ca_df = combustiveis_df [['Revenda', 'Municipio', 'Produto' ,'Valor de Venda']]\n",
        "display (ca_df)"
      ],
      "metadata": {
        "colab": {
          "base_uri": "https://localhost:8080/",
          "height": 424
        },
        "id": "EnHvPuNLZrdD",
        "outputId": "2b358975-cc62-4760-d4ec-9825bafb30d8"
      },
      "execution_count": 18,
      "outputs": [
        {
          "output_type": "display_data",
          "data": {
            "text/plain": [
              "                                           Revenda  Municipio  \\\n",
              "0                             POSTO ARAPIRACA LTDA  ARAPIRACA   \n",
              "1                             POSTO ARAPIRACA LTDA  ARAPIRACA   \n",
              "2                             POSTO ARAPIRACA LTDA  ARAPIRACA   \n",
              "3                             POSTO ARAPIRACA LTDA  ARAPIRACA   \n",
              "4                             POSTO ARAPIRACA LTDA  ARAPIRACA   \n",
              "...                                            ...        ...   \n",
              "168404  COMERCIAL DE COMBUSTIVEL CACHOEIRINHA LTDA     JEQUIE   \n",
              "168405           ABC DISTRIBUICAO DE PETROLEO LTDA  ITUIUTABA   \n",
              "168406           ABC DISTRIBUICAO DE PETROLEO LTDA  ITUIUTABA   \n",
              "168407           ABC DISTRIBUICAO DE PETROLEO LTDA  ITUIUTABA   \n",
              "168408           ABC DISTRIBUICAO DE PETROLEO LTDA  ITUIUTABA   \n",
              "\n",
              "                   Produto  Valor de Venda  \n",
              "0                 GASOLINA           6.799  \n",
              "1                   ETANOL           5.299  \n",
              "2                   DIESEL           5.549  \n",
              "3       GASOLINA ADITIVADA           6.899  \n",
              "4               DIESEL S10           5.649  \n",
              "...                    ...             ...  \n",
              "168404              ETANOL           5.859  \n",
              "168405            GASOLINA           6.580  \n",
              "168406              ETANOL           4.740  \n",
              "168407          DIESEL S10           5.448  \n",
              "168408  GASOLINA ADITIVADA           6.580  \n",
              "\n",
              "[168409 rows x 4 columns]"
            ],
            "text/html": [
              "\n",
              "  <div id=\"df-44c412a5-546d-4c92-add8-93a11206e363\">\n",
              "    <div class=\"colab-df-container\">\n",
              "      <div>\n",
              "<style scoped>\n",
              "    .dataframe tbody tr th:only-of-type {\n",
              "        vertical-align: middle;\n",
              "    }\n",
              "\n",
              "    .dataframe tbody tr th {\n",
              "        vertical-align: top;\n",
              "    }\n",
              "\n",
              "    .dataframe thead th {\n",
              "        text-align: right;\n",
              "    }\n",
              "</style>\n",
              "<table border=\"1\" class=\"dataframe\">\n",
              "  <thead>\n",
              "    <tr style=\"text-align: right;\">\n",
              "      <th></th>\n",
              "      <th>Revenda</th>\n",
              "      <th>Municipio</th>\n",
              "      <th>Produto</th>\n",
              "      <th>Valor de Venda</th>\n",
              "    </tr>\n",
              "  </thead>\n",
              "  <tbody>\n",
              "    <tr>\n",
              "      <th>0</th>\n",
              "      <td>POSTO ARAPIRACA LTDA</td>\n",
              "      <td>ARAPIRACA</td>\n",
              "      <td>GASOLINA</td>\n",
              "      <td>6.799</td>\n",
              "    </tr>\n",
              "    <tr>\n",
              "      <th>1</th>\n",
              "      <td>POSTO ARAPIRACA LTDA</td>\n",
              "      <td>ARAPIRACA</td>\n",
              "      <td>ETANOL</td>\n",
              "      <td>5.299</td>\n",
              "    </tr>\n",
              "    <tr>\n",
              "      <th>2</th>\n",
              "      <td>POSTO ARAPIRACA LTDA</td>\n",
              "      <td>ARAPIRACA</td>\n",
              "      <td>DIESEL</td>\n",
              "      <td>5.549</td>\n",
              "    </tr>\n",
              "    <tr>\n",
              "      <th>3</th>\n",
              "      <td>POSTO ARAPIRACA LTDA</td>\n",
              "      <td>ARAPIRACA</td>\n",
              "      <td>GASOLINA ADITIVADA</td>\n",
              "      <td>6.899</td>\n",
              "    </tr>\n",
              "    <tr>\n",
              "      <th>4</th>\n",
              "      <td>POSTO ARAPIRACA LTDA</td>\n",
              "      <td>ARAPIRACA</td>\n",
              "      <td>DIESEL S10</td>\n",
              "      <td>5.649</td>\n",
              "    </tr>\n",
              "    <tr>\n",
              "      <th>...</th>\n",
              "      <td>...</td>\n",
              "      <td>...</td>\n",
              "      <td>...</td>\n",
              "      <td>...</td>\n",
              "    </tr>\n",
              "    <tr>\n",
              "      <th>168404</th>\n",
              "      <td>COMERCIAL DE COMBUSTIVEL CACHOEIRINHA LTDA</td>\n",
              "      <td>JEQUIE</td>\n",
              "      <td>ETANOL</td>\n",
              "      <td>5.859</td>\n",
              "    </tr>\n",
              "    <tr>\n",
              "      <th>168405</th>\n",
              "      <td>ABC DISTRIBUICAO DE PETROLEO LTDA</td>\n",
              "      <td>ITUIUTABA</td>\n",
              "      <td>GASOLINA</td>\n",
              "      <td>6.580</td>\n",
              "    </tr>\n",
              "    <tr>\n",
              "      <th>168406</th>\n",
              "      <td>ABC DISTRIBUICAO DE PETROLEO LTDA</td>\n",
              "      <td>ITUIUTABA</td>\n",
              "      <td>ETANOL</td>\n",
              "      <td>4.740</td>\n",
              "    </tr>\n",
              "    <tr>\n",
              "      <th>168407</th>\n",
              "      <td>ABC DISTRIBUICAO DE PETROLEO LTDA</td>\n",
              "      <td>ITUIUTABA</td>\n",
              "      <td>DIESEL S10</td>\n",
              "      <td>5.448</td>\n",
              "    </tr>\n",
              "    <tr>\n",
              "      <th>168408</th>\n",
              "      <td>ABC DISTRIBUICAO DE PETROLEO LTDA</td>\n",
              "      <td>ITUIUTABA</td>\n",
              "      <td>GASOLINA ADITIVADA</td>\n",
              "      <td>6.580</td>\n",
              "    </tr>\n",
              "  </tbody>\n",
              "</table>\n",
              "<p>168409 rows × 4 columns</p>\n",
              "</div>\n",
              "      <button class=\"colab-df-convert\" onclick=\"convertToInteractive('df-44c412a5-546d-4c92-add8-93a11206e363')\"\n",
              "              title=\"Convert this dataframe to an interactive table.\"\n",
              "              style=\"display:none;\">\n",
              "        \n",
              "  <svg xmlns=\"http://www.w3.org/2000/svg\" height=\"24px\"viewBox=\"0 0 24 24\"\n",
              "       width=\"24px\">\n",
              "    <path d=\"M0 0h24v24H0V0z\" fill=\"none\"/>\n",
              "    <path d=\"M18.56 5.44l.94 2.06.94-2.06 2.06-.94-2.06-.94-.94-2.06-.94 2.06-2.06.94zm-11 1L8.5 8.5l.94-2.06 2.06-.94-2.06-.94L8.5 2.5l-.94 2.06-2.06.94zm10 10l.94 2.06.94-2.06 2.06-.94-2.06-.94-.94-2.06-.94 2.06-2.06.94z\"/><path d=\"M17.41 7.96l-1.37-1.37c-.4-.4-.92-.59-1.43-.59-.52 0-1.04.2-1.43.59L10.3 9.45l-7.72 7.72c-.78.78-.78 2.05 0 2.83L4 21.41c.39.39.9.59 1.41.59.51 0 1.02-.2 1.41-.59l7.78-7.78 2.81-2.81c.8-.78.8-2.07 0-2.86zM5.41 20L4 18.59l7.72-7.72 1.47 1.35L5.41 20z\"/>\n",
              "  </svg>\n",
              "      </button>\n",
              "      \n",
              "  <style>\n",
              "    .colab-df-container {\n",
              "      display:flex;\n",
              "      flex-wrap:wrap;\n",
              "      gap: 12px;\n",
              "    }\n",
              "\n",
              "    .colab-df-convert {\n",
              "      background-color: #E8F0FE;\n",
              "      border: none;\n",
              "      border-radius: 50%;\n",
              "      cursor: pointer;\n",
              "      display: none;\n",
              "      fill: #1967D2;\n",
              "      height: 32px;\n",
              "      padding: 0 0 0 0;\n",
              "      width: 32px;\n",
              "    }\n",
              "\n",
              "    .colab-df-convert:hover {\n",
              "      background-color: #E2EBFA;\n",
              "      box-shadow: 0px 1px 2px rgba(60, 64, 67, 0.3), 0px 1px 3px 1px rgba(60, 64, 67, 0.15);\n",
              "      fill: #174EA6;\n",
              "    }\n",
              "\n",
              "    [theme=dark] .colab-df-convert {\n",
              "      background-color: #3B4455;\n",
              "      fill: #D2E3FC;\n",
              "    }\n",
              "\n",
              "    [theme=dark] .colab-df-convert:hover {\n",
              "      background-color: #434B5C;\n",
              "      box-shadow: 0px 1px 3px 1px rgba(0, 0, 0, 0.15);\n",
              "      filter: drop-shadow(0px 1px 2px rgba(0, 0, 0, 0.3));\n",
              "      fill: #FFFFFF;\n",
              "    }\n",
              "  </style>\n",
              "\n",
              "      <script>\n",
              "        const buttonEl =\n",
              "          document.querySelector('#df-44c412a5-546d-4c92-add8-93a11206e363 button.colab-df-convert');\n",
              "        buttonEl.style.display =\n",
              "          google.colab.kernel.accessAllowed ? 'block' : 'none';\n",
              "\n",
              "        async function convertToInteractive(key) {\n",
              "          const element = document.querySelector('#df-44c412a5-546d-4c92-add8-93a11206e363');\n",
              "          const dataTable =\n",
              "            await google.colab.kernel.invokeFunction('convertToInteractive',\n",
              "                                                     [key], {});\n",
              "          if (!dataTable) return;\n",
              "\n",
              "          const docLinkHtml = 'Like what you see? Visit the ' +\n",
              "            '<a target=\"_blank\" href=https://colab.research.google.com/notebooks/data_table.ipynb>data table notebook</a>'\n",
              "            + ' to learn more about interactive tables.';\n",
              "          element.innerHTML = '';\n",
              "          dataTable['output_type'] = 'display_data';\n",
              "          await google.colab.output.renderOutput(dataTable, element);\n",
              "          const docLink = document.createElement('div');\n",
              "          docLink.innerHTML = docLinkHtml;\n",
              "          element.appendChild(docLink);\n",
              "        }\n",
              "      </script>\n",
              "    </div>\n",
              "  </div>\n",
              "  "
            ]
          },
          "metadata": {}
        }
      ]
    },
    {
      "cell_type": "markdown",
      "source": [
        "Exibe a quarta linha "
      ],
      "metadata": {
        "id": "CEAsVbjSbyw_"
      }
    },
    {
      "cell_type": "code",
      "source": [
        "display(ca_df.loc[3])"
      ],
      "metadata": {
        "id": "wpqxkOlbb1n5",
        "colab": {
          "base_uri": "https://localhost:8080/",
          "height": 104
        },
        "outputId": "1b8d8a90-8403-4bee-e4c2-86f5c1758004"
      },
      "execution_count": 19,
      "outputs": [
        {
          "output_type": "display_data",
          "data": {
            "text/plain": [
              "Revenda           POSTO ARAPIRACA LTDA\n",
              "Municipio                    ARAPIRACA\n",
              "Produto             GASOLINA ADITIVADA\n",
              "Valor de Venda                   6.899\n",
              "Name: 3, dtype: object"
            ]
          },
          "metadata": {}
        }
      ]
    },
    {
      "cell_type": "markdown",
      "source": [
        "Exiber da décima linha a vigésima linha "
      ],
      "metadata": {
        "id": "5vVQXA7jdWgv"
      }
    },
    {
      "cell_type": "code",
      "source": [
        "display(ca_df.loc[9:19])"
      ],
      "metadata": {
        "id": "_zitxF-7dbjW"
      },
      "execution_count": null,
      "outputs": []
    },
    {
      "cell_type": "code",
      "source": [
        "#Criar um dataframe gas_df\n",
        "#apenas 4 colunas\n",
        "#somente gasolina "
      ],
      "metadata": {
        "id": "oV3fpLLueafG"
      },
      "execution_count": null,
      "outputs": []
    },
    {
      "cell_type": "code",
      "source": [
        "gas_df = ca_df.loc[ca_df['Produto'] == 'GASOLINA']\n",
        "display(gas_df['Valor de Venda'].max())\n"
      ],
      "metadata": {
        "colab": {
          "base_uri": "https://localhost:8080/",
          "height": 34
        },
        "id": "04-hdSzLeyY6",
        "outputId": "430ac361-51ab-433d-8690-536c9af19680"
      },
      "execution_count": null,
      "outputs": [
        {
          "output_type": "display_data",
          "data": {
            "text/plain": [
              "7.999"
            ]
          },
          "metadata": {}
        }
      ]
    },
    {
      "cell_type": "code",
      "source": [
        "#Mostrar municipio da gasolina mais cara do brasil "
      ],
      "metadata": {
        "id": "E5V5NY6uhXY0"
      },
      "execution_count": null,
      "outputs": []
    },
    {
      "cell_type": "code",
      "source": [
        "display(gas_df[['Revenda','Valor de Venda','Municipio']].max())"
      ],
      "metadata": {
        "id": "Yo8P7S9bheea"
      },
      "execution_count": null,
      "outputs": []
    },
    {
      "cell_type": "code",
      "source": [
        "#DataFrame.loc[] com múltiplas condições para filtragem\n",
        "#Quais são os preços, postos que vendem ETANOL na minha cidade (INDAIATUBA) \n",
        "#ordenado do menor valor de venda para o maior\n",
        "\n",
        "etanol_indaiatuba_df = ca_df.loc[(ca_df['Produto'] == 'ETANOL') & (ca_df['Municipio'] == 'INDAIATUBA')]\n",
        "display(etanol_indaiatuba_df.sort_values(by='Valor de Venda'))"
      ],
      "metadata": {
        "colab": {
          "base_uri": "https://localhost:8080/",
          "height": 424
        },
        "id": "E5KAXAidK93n",
        "outputId": "74c7c705-86c1-40b0-f2f5-4c01d7739bce"
      },
      "execution_count": 20,
      "outputs": [
        {
          "output_type": "display_data",
          "data": {
            "text/plain": [
              "                                        Revenda   Municipio Produto  \\\n",
              "160592             AUTO POSTO NAMORADA II LTDA.  INDAIATUBA  ETANOL   \n",
              "140194  CENTRO AUTOMOTIVO RIVIERA TROPICAL LTDA  INDAIATUBA  ETANOL   \n",
              "140661      M.LI COMERCIO DE COMBUSTIVEIS LTDA.  INDAIATUBA  ETANOL   \n",
              "159497      M.LI COMERCIO DE COMBUSTIVEIS LTDA.  INDAIATUBA  ETANOL   \n",
              "141167      AUTO POSTO ESPLANADA DE INDAIA LTDA  INDAIATUBA  ETANOL   \n",
              "...                                         ...         ...     ...   \n",
              "51129          AUTO POSTO CIDADE DO SOL II LTDA  INDAIATUBA  ETANOL   \n",
              "51138              AUTO POSTO NAMORADA II LTDA.  INDAIATUBA  ETANOL   \n",
              "84395              AUTO POSTO NAMORADA II LTDA.  INDAIATUBA  ETANOL   \n",
              "65878          AUTO POSTO CIDADE DO SOL II LTDA  INDAIATUBA  ETANOL   \n",
              "65363             AUTO POSTO INDIANA SELF LTDA.  INDAIATUBA  ETANOL   \n",
              "\n",
              "        Valor de Venda  \n",
              "160592           4.679  \n",
              "140194           4.679  \n",
              "140661           4.699  \n",
              "159497           4.699  \n",
              "141167           4.699  \n",
              "...                ...  \n",
              "51129            5.599  \n",
              "51138            5.599  \n",
              "84395            5.599  \n",
              "65878            5.599  \n",
              "65363            6.197  \n",
              "\n",
              "[143 rows x 4 columns]"
            ],
            "text/html": [
              "\n",
              "  <div id=\"df-c0f2035f-3b23-438b-bf4b-3e584456cd13\">\n",
              "    <div class=\"colab-df-container\">\n",
              "      <div>\n",
              "<style scoped>\n",
              "    .dataframe tbody tr th:only-of-type {\n",
              "        vertical-align: middle;\n",
              "    }\n",
              "\n",
              "    .dataframe tbody tr th {\n",
              "        vertical-align: top;\n",
              "    }\n",
              "\n",
              "    .dataframe thead th {\n",
              "        text-align: right;\n",
              "    }\n",
              "</style>\n",
              "<table border=\"1\" class=\"dataframe\">\n",
              "  <thead>\n",
              "    <tr style=\"text-align: right;\">\n",
              "      <th></th>\n",
              "      <th>Revenda</th>\n",
              "      <th>Municipio</th>\n",
              "      <th>Produto</th>\n",
              "      <th>Valor de Venda</th>\n",
              "    </tr>\n",
              "  </thead>\n",
              "  <tbody>\n",
              "    <tr>\n",
              "      <th>160592</th>\n",
              "      <td>AUTO POSTO NAMORADA II LTDA.</td>\n",
              "      <td>INDAIATUBA</td>\n",
              "      <td>ETANOL</td>\n",
              "      <td>4.679</td>\n",
              "    </tr>\n",
              "    <tr>\n",
              "      <th>140194</th>\n",
              "      <td>CENTRO AUTOMOTIVO RIVIERA TROPICAL LTDA</td>\n",
              "      <td>INDAIATUBA</td>\n",
              "      <td>ETANOL</td>\n",
              "      <td>4.679</td>\n",
              "    </tr>\n",
              "    <tr>\n",
              "      <th>140661</th>\n",
              "      <td>M.LI COMERCIO DE COMBUSTIVEIS LTDA.</td>\n",
              "      <td>INDAIATUBA</td>\n",
              "      <td>ETANOL</td>\n",
              "      <td>4.699</td>\n",
              "    </tr>\n",
              "    <tr>\n",
              "      <th>159497</th>\n",
              "      <td>M.LI COMERCIO DE COMBUSTIVEIS LTDA.</td>\n",
              "      <td>INDAIATUBA</td>\n",
              "      <td>ETANOL</td>\n",
              "      <td>4.699</td>\n",
              "    </tr>\n",
              "    <tr>\n",
              "      <th>141167</th>\n",
              "      <td>AUTO POSTO ESPLANADA DE INDAIA LTDA</td>\n",
              "      <td>INDAIATUBA</td>\n",
              "      <td>ETANOL</td>\n",
              "      <td>4.699</td>\n",
              "    </tr>\n",
              "    <tr>\n",
              "      <th>...</th>\n",
              "      <td>...</td>\n",
              "      <td>...</td>\n",
              "      <td>...</td>\n",
              "      <td>...</td>\n",
              "    </tr>\n",
              "    <tr>\n",
              "      <th>51129</th>\n",
              "      <td>AUTO POSTO CIDADE DO SOL II LTDA</td>\n",
              "      <td>INDAIATUBA</td>\n",
              "      <td>ETANOL</td>\n",
              "      <td>5.599</td>\n",
              "    </tr>\n",
              "    <tr>\n",
              "      <th>51138</th>\n",
              "      <td>AUTO POSTO NAMORADA II LTDA.</td>\n",
              "      <td>INDAIATUBA</td>\n",
              "      <td>ETANOL</td>\n",
              "      <td>5.599</td>\n",
              "    </tr>\n",
              "    <tr>\n",
              "      <th>84395</th>\n",
              "      <td>AUTO POSTO NAMORADA II LTDA.</td>\n",
              "      <td>INDAIATUBA</td>\n",
              "      <td>ETANOL</td>\n",
              "      <td>5.599</td>\n",
              "    </tr>\n",
              "    <tr>\n",
              "      <th>65878</th>\n",
              "      <td>AUTO POSTO CIDADE DO SOL II LTDA</td>\n",
              "      <td>INDAIATUBA</td>\n",
              "      <td>ETANOL</td>\n",
              "      <td>5.599</td>\n",
              "    </tr>\n",
              "    <tr>\n",
              "      <th>65363</th>\n",
              "      <td>AUTO POSTO INDIANA SELF LTDA.</td>\n",
              "      <td>INDAIATUBA</td>\n",
              "      <td>ETANOL</td>\n",
              "      <td>6.197</td>\n",
              "    </tr>\n",
              "  </tbody>\n",
              "</table>\n",
              "<p>143 rows × 4 columns</p>\n",
              "</div>\n",
              "      <button class=\"colab-df-convert\" onclick=\"convertToInteractive('df-c0f2035f-3b23-438b-bf4b-3e584456cd13')\"\n",
              "              title=\"Convert this dataframe to an interactive table.\"\n",
              "              style=\"display:none;\">\n",
              "        \n",
              "  <svg xmlns=\"http://www.w3.org/2000/svg\" height=\"24px\"viewBox=\"0 0 24 24\"\n",
              "       width=\"24px\">\n",
              "    <path d=\"M0 0h24v24H0V0z\" fill=\"none\"/>\n",
              "    <path d=\"M18.56 5.44l.94 2.06.94-2.06 2.06-.94-2.06-.94-.94-2.06-.94 2.06-2.06.94zm-11 1L8.5 8.5l.94-2.06 2.06-.94-2.06-.94L8.5 2.5l-.94 2.06-2.06.94zm10 10l.94 2.06.94-2.06 2.06-.94-2.06-.94-.94-2.06-.94 2.06-2.06.94z\"/><path d=\"M17.41 7.96l-1.37-1.37c-.4-.4-.92-.59-1.43-.59-.52 0-1.04.2-1.43.59L10.3 9.45l-7.72 7.72c-.78.78-.78 2.05 0 2.83L4 21.41c.39.39.9.59 1.41.59.51 0 1.02-.2 1.41-.59l7.78-7.78 2.81-2.81c.8-.78.8-2.07 0-2.86zM5.41 20L4 18.59l7.72-7.72 1.47 1.35L5.41 20z\"/>\n",
              "  </svg>\n",
              "      </button>\n",
              "      \n",
              "  <style>\n",
              "    .colab-df-container {\n",
              "      display:flex;\n",
              "      flex-wrap:wrap;\n",
              "      gap: 12px;\n",
              "    }\n",
              "\n",
              "    .colab-df-convert {\n",
              "      background-color: #E8F0FE;\n",
              "      border: none;\n",
              "      border-radius: 50%;\n",
              "      cursor: pointer;\n",
              "      display: none;\n",
              "      fill: #1967D2;\n",
              "      height: 32px;\n",
              "      padding: 0 0 0 0;\n",
              "      width: 32px;\n",
              "    }\n",
              "\n",
              "    .colab-df-convert:hover {\n",
              "      background-color: #E2EBFA;\n",
              "      box-shadow: 0px 1px 2px rgba(60, 64, 67, 0.3), 0px 1px 3px 1px rgba(60, 64, 67, 0.15);\n",
              "      fill: #174EA6;\n",
              "    }\n",
              "\n",
              "    [theme=dark] .colab-df-convert {\n",
              "      background-color: #3B4455;\n",
              "      fill: #D2E3FC;\n",
              "    }\n",
              "\n",
              "    [theme=dark] .colab-df-convert:hover {\n",
              "      background-color: #434B5C;\n",
              "      box-shadow: 0px 1px 3px 1px rgba(0, 0, 0, 0.15);\n",
              "      filter: drop-shadow(0px 1px 2px rgba(0, 0, 0, 0.3));\n",
              "      fill: #FFFFFF;\n",
              "    }\n",
              "  </style>\n",
              "\n",
              "      <script>\n",
              "        const buttonEl =\n",
              "          document.querySelector('#df-c0f2035f-3b23-438b-bf4b-3e584456cd13 button.colab-df-convert');\n",
              "        buttonEl.style.display =\n",
              "          google.colab.kernel.accessAllowed ? 'block' : 'none';\n",
              "\n",
              "        async function convertToInteractive(key) {\n",
              "          const element = document.querySelector('#df-c0f2035f-3b23-438b-bf4b-3e584456cd13');\n",
              "          const dataTable =\n",
              "            await google.colab.kernel.invokeFunction('convertToInteractive',\n",
              "                                                     [key], {});\n",
              "          if (!dataTable) return;\n",
              "\n",
              "          const docLinkHtml = 'Like what you see? Visit the ' +\n",
              "            '<a target=\"_blank\" href=https://colab.research.google.com/notebooks/data_table.ipynb>data table notebook</a>'\n",
              "            + ' to learn more about interactive tables.';\n",
              "          element.innerHTML = '';\n",
              "          dataTable['output_type'] = 'display_data';\n",
              "          await google.colab.output.renderOutput(dataTable, element);\n",
              "          const docLink = document.createElement('div');\n",
              "          docLink.innerHTML = docLinkHtml;\n",
              "          element.appendChild(docLink);\n",
              "        }\n",
              "      </script>\n",
              "    </div>\n",
              "  </div>\n",
              "  "
            ]
          },
          "metadata": {}
        }
      ]
    },
    {
      "cell_type": "code",
      "source": [
        "#Qual a média de preços dos combustívels GASOLINA e GASOLINA ADTIVADA do Bairro MOOCA"
      ],
      "metadata": {
        "id": "zo3wEvYYPr-R"
      },
      "execution_count": null,
      "outputs": []
    },
    {
      "cell_type": "code",
      "source": [
        "combustiveis_df.loc[(combustiveis_df['Bairro'] == 'MOOCA') & \n",
        "                    (combustiveis_df['Municipio'] == 'SAO PAULO') & (combustiveis_df['Produto'] == 'GASOLINA') | (combustiveis_df['Produto'] == 'GASOLINA ADITIVADA')]"
      ],
      "metadata": {
        "id": "Oj_l_nnoP2Qu"
      },
      "execution_count": null,
      "outputs": []
    },
    {
      "cell_type": "code",
      "source": [
        "#Filtrando mais de um produto usando o .isin "
      ],
      "metadata": {
        "id": "015q2XEJeg1l"
      },
      "execution_count": null,
      "outputs": []
    },
    {
      "cell_type": "code",
      "source": [
        "display(combustiveis_df.loc[(combustiveis_df['Bairro'] == 'MOOCA') & \n",
        "                            (combustiveis_df['Municipio'] == 'SAO PAULO') & \n",
        "                            (combustiveis_df['Produto'].isin([\"GASOLINA\", \"GASOLINA ADITIVADA\"])), \n",
        "                            ['Valor de Venda']].mean())"
      ],
      "metadata": {
        "id": "w349VThndQAD",
        "outputId": "9ce7d062-110c-4fcf-9b28-0b067e7686e4",
        "colab": {
          "base_uri": "https://localhost:8080/",
          "height": 52
        }
      },
      "execution_count": null,
      "outputs": [
        {
          "output_type": "display_data",
          "data": {
            "text/plain": [
              "Valor de Venda    6.575596\n",
              "dtype: float64"
            ]
          },
          "metadata": {}
        }
      ]
    },
    {
      "cell_type": "code",
      "source": [
        "#COMO MOSTRAR A MEDIA DE VALOR DE VENDA POR COMBUSTÍVEL"
      ],
      "metadata": {
        "id": "dY4nF3CCele2"
      },
      "execution_count": null,
      "outputs": []
    },
    {
      "cell_type": "code",
      "source": [
        "media_por_combustivel_df = ca_df[['Valor de Venda', 'Produto']].groupby(by='Produto').mean()\n",
        "display(media_por_combustivel_df)"
      ],
      "metadata": {
        "id": "_42XtF2ifR78"
      },
      "execution_count": null,
      "outputs": []
    },
    {
      "cell_type": "code",
      "source": [
        "#COMO MOSTRAR A MEDIA DE VALOR DE VENDA POR COMBUSTÍVEL SÓ COM DUAS CASAS DECIMAIS"
      ],
      "metadata": {
        "id": "_d6E5kngjgpV"
      },
      "execution_count": null,
      "outputs": []
    },
    {
      "cell_type": "code",
      "source": [
        "media_por_combustivel_df = ca_df[['Produto', 'Valor de Venda']].groupby(by='Produto').mean().round(2)\n",
        "display(media_por_combustivel_df)\n"
      ],
      "metadata": {
        "id": "O5yelaQpjkRF"
      },
      "execution_count": null,
      "outputs": []
    },
    {
      "cell_type": "code",
      "source": [
        "#Quero adicionar uma nova coluna de valor booleano chamado \"aTIVO\"\n",
        "#que por padrão vai ser \"true\" em todas as linhas "
      ],
      "metadata": {
        "id": "lsMiK81kkJOx"
      },
      "execution_count": null,
      "outputs": []
    },
    {
      "cell_type": "code",
      "source": [
        "combustiveis_df['Ativo'] = True \n",
        "display(combustiveis_df)"
      ],
      "metadata": {
        "id": "MyJL0kZGkYvE"
      },
      "execution_count": null,
      "outputs": []
    },
    {
      "cell_type": "code",
      "source": [
        "#Quando quiser uma coluna que preencha \"Melhor cidade\" quando o municipio for Indaiatuba"
      ],
      "metadata": {
        "id": "RbGPoPoWmKf9"
      },
      "execution_count": null,
      "outputs": []
    },
    {
      "cell_type": "code",
      "source": [
        "combustiveis_df['Obs'] = \"Melhor Cidade\" if combustiveis_df['MUNICIPIO'] == \"INDAIATUBA\" else \" \""
      ],
      "metadata": {
        "id": "FJvp88yAmghe"
      },
      "execution_count": null,
      "outputs": []
    },
    {
      "cell_type": "code",
      "source": [
        "#Exportar para excel "
      ],
      "metadata": {
        "id": "Em8U4ab7nXWN"
      },
      "execution_count": null,
      "outputs": []
    },
    {
      "cell_type": "code",
      "source": [
        "etanol_indaiatuba_df.to_excel('etanol_indaiatuba.xlsx', sheet_name='Etanol em Indaiatuba')"
      ],
      "metadata": {
        "id": "HqaE7F5oo4Up"
      },
      "execution_count": 22,
      "outputs": []
    }
  ],
  "metadata": {
    "colab": {
      "provenance": [],
      "include_colab_link": true
    },
    "kernelspec": {
      "display_name": "Python 3",
      "name": "python3"
    }
  },
  "nbformat": 4,
  "nbformat_minor": 0
}