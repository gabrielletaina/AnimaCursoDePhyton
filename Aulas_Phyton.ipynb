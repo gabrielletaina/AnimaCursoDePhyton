{
  "cells": [
    {
      "cell_type": "markdown",
      "metadata": {
        "id": "view-in-github",
        "colab_type": "text"
      },
      "source": [
        "<a href=\"https://colab.research.google.com/github/gabrielletaina/AnimaCursoDePhyton/blob/main/Aulas_Phyton.ipynb\" target=\"_parent\"><img src=\"https://colab.research.google.com/assets/colab-badge.svg\" alt=\"Open In Colab\"/></a>"
      ]
    },
    {
      "cell_type": "markdown",
      "source": [
        "AULA 07/02"
      ],
      "metadata": {
        "id": "zG3KfdmO5V_i"
      }
    },
    {
      "cell_type": "markdown",
      "source": [
        "importando arquivo e chamando biblioteca pandas"
      ],
      "metadata": {
        "id": "FLExyzI4-sup"
      }
    },
    {
      "cell_type": "code",
      "source": [
        "import pandas as pd\n",
        "\n",
        "combustiveis_df = pd.read_excel(\"ca-2021-02.xlsx\") "
      ],
      "metadata": {
        "id": "2TXIKWrK5X2F"
      },
      "execution_count": null,
      "outputs": []
    },
    {
      "cell_type": "markdown",
      "source": [],
      "metadata": {
        "id": "985rCfRqBmQE"
      }
    },
    {
      "cell_type": "markdown",
      "source": [
        "Use o print ou display para ver a tabela que subimos"
      ],
      "metadata": {
        "id": "vTx5Li3WBji2"
      }
    },
    {
      "cell_type": "code",
      "source": [
        "print(combustiveis_df)"
      ],
      "metadata": {
        "id": "2vdJzKG1BNGK"
      },
      "execution_count": null,
      "outputs": []
    },
    {
      "cell_type": "code",
      "source": [
        "display(combustiveis_df)"
      ],
      "metadata": {
        "id": "cPpzMeLdCNtv"
      },
      "execution_count": null,
      "outputs": []
    },
    {
      "cell_type": "code",
      "source": [
        "display(combustiveis_df.head(15))"
      ],
      "metadata": {
        "id": "IVNtPidvCfPO"
      },
      "execution_count": null,
      "outputs": []
    },
    {
      "cell_type": "code",
      "source": [
        "display(combustiveis_df.shape)"
      ],
      "metadata": {
        "id": "6xz-baOJLuoa"
      },
      "execution_count": null,
      "outputs": []
    },
    {
      "cell_type": "markdown",
      "source": [
        "Mostra as estatitiscas mais básicas "
      ],
      "metadata": {
        "id": "6sWLmSqVTuYI"
      }
    },
    {
      "cell_type": "code",
      "source": [
        "display(combustiveis_df.describe())"
      ],
      "metadata": {
        "id": "_hl2b-zrMEH8"
      },
      "execution_count": null,
      "outputs": []
    },
    {
      "cell_type": "markdown",
      "source": [
        "Mostra o tipo de cada info"
      ],
      "metadata": {
        "id": "unPV2JMxT29V"
      }
    },
    {
      "cell_type": "code",
      "source": [
        "display(combustiveis_df.info())"
      ],
      "metadata": {
        "id": "OxAeyBeoNm1A"
      },
      "execution_count": null,
      "outputs": []
    },
    {
      "cell_type": "markdown",
      "source": [
        "  FILTRAR SOMENTE 1 COLUNA"
      ],
      "metadata": {
        "id": "xkE6DOBkYXy3"
      }
    },
    {
      "cell_type": "code",
      "source": [
        "display(combustiveis_df['Revenda'])"
      ],
      "metadata": {
        "colab": {
          "base_uri": "https://localhost:8080/",
          "height": 225
        },
        "id": "eZnv8VdHYbhP",
        "outputId": "24d196de-405c-480b-94aa-17b00b588d8c"
      },
      "execution_count": null,
      "outputs": [
        {
          "output_type": "display_data",
          "data": {
            "text/plain": [
              "0                               POSTO ARAPIRACA LTDA\n",
              "1                               POSTO ARAPIRACA LTDA\n",
              "2                               POSTO ARAPIRACA LTDA\n",
              "3                               POSTO ARAPIRACA LTDA\n",
              "4                               POSTO ARAPIRACA LTDA\n",
              "                             ...                    \n",
              "168404    COMERCIAL DE COMBUSTIVEL CACHOEIRINHA LTDA\n",
              "168405             ABC DISTRIBUICAO DE PETROLEO LTDA\n",
              "168406             ABC DISTRIBUICAO DE PETROLEO LTDA\n",
              "168407             ABC DISTRIBUICAO DE PETROLEO LTDA\n",
              "168408             ABC DISTRIBUICAO DE PETROLEO LTDA\n",
              "Name: Revenda, Length: 168409, dtype: object"
            ]
          },
          "metadata": {}
        }
      ]
    },
    {
      "cell_type": "code",
      "source": [
        "ca_df = combustiveis_df [['Revenda', 'Municipio', 'Produto' ,'Valor de Venda']]\n",
        "display (ca_df)"
      ],
      "metadata": {
        "colab": {
          "base_uri": "https://localhost:8080/",
          "height": 589
        },
        "id": "EnHvPuNLZrdD",
        "outputId": "ba1e7da9-d262-4701-ee79-aabbd77838a8"
      },
      "execution_count": null,
      "outputs": [
        {
          "output_type": "display_data",
          "data": {
            "text/plain": [
              "                                           Revenda  Municipio  \\\n",
              "0                             POSTO ARAPIRACA LTDA  ARAPIRACA   \n",
              "1                             POSTO ARAPIRACA LTDA  ARAPIRACA   \n",
              "2                             POSTO ARAPIRACA LTDA  ARAPIRACA   \n",
              "3                             POSTO ARAPIRACA LTDA  ARAPIRACA   \n",
              "4                             POSTO ARAPIRACA LTDA  ARAPIRACA   \n",
              "...                                            ...        ...   \n",
              "168404  COMERCIAL DE COMBUSTIVEL CACHOEIRINHA LTDA     JEQUIE   \n",
              "168405           ABC DISTRIBUICAO DE PETROLEO LTDA  ITUIUTABA   \n",
              "168406           ABC DISTRIBUICAO DE PETROLEO LTDA  ITUIUTABA   \n",
              "168407           ABC DISTRIBUICAO DE PETROLEO LTDA  ITUIUTABA   \n",
              "168408           ABC DISTRIBUICAO DE PETROLEO LTDA  ITUIUTABA   \n",
              "\n",
              "                   Produto  Valor de Venda  \n",
              "0                 GASOLINA           6.799  \n",
              "1                   ETANOL           5.299  \n",
              "2                   DIESEL           5.549  \n",
              "3       GASOLINA ADITIVADA           6.899  \n",
              "4               DIESEL S10           5.649  \n",
              "...                    ...             ...  \n",
              "168404              ETANOL           5.859  \n",
              "168405            GASOLINA           6.580  \n",
              "168406              ETANOL           4.740  \n",
              "168407          DIESEL S10           5.448  \n",
              "168408  GASOLINA ADITIVADA           6.580  \n",
              "\n",
              "[168409 rows x 4 columns]"
            ],
            "text/html": [
              "\n",
              "  <div id=\"df-04d3907c-9ea8-4df2-a2ed-347957a95dd2\">\n",
              "    <div class=\"colab-df-container\">\n",
              "      <div>\n",
              "<style scoped>\n",
              "    .dataframe tbody tr th:only-of-type {\n",
              "        vertical-align: middle;\n",
              "    }\n",
              "\n",
              "    .dataframe tbody tr th {\n",
              "        vertical-align: top;\n",
              "    }\n",
              "\n",
              "    .dataframe thead th {\n",
              "        text-align: right;\n",
              "    }\n",
              "</style>\n",
              "<table border=\"1\" class=\"dataframe\">\n",
              "  <thead>\n",
              "    <tr style=\"text-align: right;\">\n",
              "      <th></th>\n",
              "      <th>Revenda</th>\n",
              "      <th>Municipio</th>\n",
              "      <th>Produto</th>\n",
              "      <th>Valor de Venda</th>\n",
              "    </tr>\n",
              "  </thead>\n",
              "  <tbody>\n",
              "    <tr>\n",
              "      <th>0</th>\n",
              "      <td>POSTO ARAPIRACA LTDA</td>\n",
              "      <td>ARAPIRACA</td>\n",
              "      <td>GASOLINA</td>\n",
              "      <td>6.799</td>\n",
              "    </tr>\n",
              "    <tr>\n",
              "      <th>1</th>\n",
              "      <td>POSTO ARAPIRACA LTDA</td>\n",
              "      <td>ARAPIRACA</td>\n",
              "      <td>ETANOL</td>\n",
              "      <td>5.299</td>\n",
              "    </tr>\n",
              "    <tr>\n",
              "      <th>2</th>\n",
              "      <td>POSTO ARAPIRACA LTDA</td>\n",
              "      <td>ARAPIRACA</td>\n",
              "      <td>DIESEL</td>\n",
              "      <td>5.549</td>\n",
              "    </tr>\n",
              "    <tr>\n",
              "      <th>3</th>\n",
              "      <td>POSTO ARAPIRACA LTDA</td>\n",
              "      <td>ARAPIRACA</td>\n",
              "      <td>GASOLINA ADITIVADA</td>\n",
              "      <td>6.899</td>\n",
              "    </tr>\n",
              "    <tr>\n",
              "      <th>4</th>\n",
              "      <td>POSTO ARAPIRACA LTDA</td>\n",
              "      <td>ARAPIRACA</td>\n",
              "      <td>DIESEL S10</td>\n",
              "      <td>5.649</td>\n",
              "    </tr>\n",
              "    <tr>\n",
              "      <th>...</th>\n",
              "      <td>...</td>\n",
              "      <td>...</td>\n",
              "      <td>...</td>\n",
              "      <td>...</td>\n",
              "    </tr>\n",
              "    <tr>\n",
              "      <th>168404</th>\n",
              "      <td>COMERCIAL DE COMBUSTIVEL CACHOEIRINHA LTDA</td>\n",
              "      <td>JEQUIE</td>\n",
              "      <td>ETANOL</td>\n",
              "      <td>5.859</td>\n",
              "    </tr>\n",
              "    <tr>\n",
              "      <th>168405</th>\n",
              "      <td>ABC DISTRIBUICAO DE PETROLEO LTDA</td>\n",
              "      <td>ITUIUTABA</td>\n",
              "      <td>GASOLINA</td>\n",
              "      <td>6.580</td>\n",
              "    </tr>\n",
              "    <tr>\n",
              "      <th>168406</th>\n",
              "      <td>ABC DISTRIBUICAO DE PETROLEO LTDA</td>\n",
              "      <td>ITUIUTABA</td>\n",
              "      <td>ETANOL</td>\n",
              "      <td>4.740</td>\n",
              "    </tr>\n",
              "    <tr>\n",
              "      <th>168407</th>\n",
              "      <td>ABC DISTRIBUICAO DE PETROLEO LTDA</td>\n",
              "      <td>ITUIUTABA</td>\n",
              "      <td>DIESEL S10</td>\n",
              "      <td>5.448</td>\n",
              "    </tr>\n",
              "    <tr>\n",
              "      <th>168408</th>\n",
              "      <td>ABC DISTRIBUICAO DE PETROLEO LTDA</td>\n",
              "      <td>ITUIUTABA</td>\n",
              "      <td>GASOLINA ADITIVADA</td>\n",
              "      <td>6.580</td>\n",
              "    </tr>\n",
              "  </tbody>\n",
              "</table>\n",
              "<p>168409 rows × 4 columns</p>\n",
              "</div>\n",
              "      <button class=\"colab-df-convert\" onclick=\"convertToInteractive('df-04d3907c-9ea8-4df2-a2ed-347957a95dd2')\"\n",
              "              title=\"Convert this dataframe to an interactive table.\"\n",
              "              style=\"display:none;\">\n",
              "        \n",
              "  <svg xmlns=\"http://www.w3.org/2000/svg\" height=\"24px\"viewBox=\"0 0 24 24\"\n",
              "       width=\"24px\">\n",
              "    <path d=\"M0 0h24v24H0V0z\" fill=\"none\"/>\n",
              "    <path d=\"M18.56 5.44l.94 2.06.94-2.06 2.06-.94-2.06-.94-.94-2.06-.94 2.06-2.06.94zm-11 1L8.5 8.5l.94-2.06 2.06-.94-2.06-.94L8.5 2.5l-.94 2.06-2.06.94zm10 10l.94 2.06.94-2.06 2.06-.94-2.06-.94-.94-2.06-.94 2.06-2.06.94z\"/><path d=\"M17.41 7.96l-1.37-1.37c-.4-.4-.92-.59-1.43-.59-.52 0-1.04.2-1.43.59L10.3 9.45l-7.72 7.72c-.78.78-.78 2.05 0 2.83L4 21.41c.39.39.9.59 1.41.59.51 0 1.02-.2 1.41-.59l7.78-7.78 2.81-2.81c.8-.78.8-2.07 0-2.86zM5.41 20L4 18.59l7.72-7.72 1.47 1.35L5.41 20z\"/>\n",
              "  </svg>\n",
              "      </button>\n",
              "      \n",
              "  <style>\n",
              "    .colab-df-container {\n",
              "      display:flex;\n",
              "      flex-wrap:wrap;\n",
              "      gap: 12px;\n",
              "    }\n",
              "\n",
              "    .colab-df-convert {\n",
              "      background-color: #E8F0FE;\n",
              "      border: none;\n",
              "      border-radius: 50%;\n",
              "      cursor: pointer;\n",
              "      display: none;\n",
              "      fill: #1967D2;\n",
              "      height: 32px;\n",
              "      padding: 0 0 0 0;\n",
              "      width: 32px;\n",
              "    }\n",
              "\n",
              "    .colab-df-convert:hover {\n",
              "      background-color: #E2EBFA;\n",
              "      box-shadow: 0px 1px 2px rgba(60, 64, 67, 0.3), 0px 1px 3px 1px rgba(60, 64, 67, 0.15);\n",
              "      fill: #174EA6;\n",
              "    }\n",
              "\n",
              "    [theme=dark] .colab-df-convert {\n",
              "      background-color: #3B4455;\n",
              "      fill: #D2E3FC;\n",
              "    }\n",
              "\n",
              "    [theme=dark] .colab-df-convert:hover {\n",
              "      background-color: #434B5C;\n",
              "      box-shadow: 0px 1px 3px 1px rgba(0, 0, 0, 0.15);\n",
              "      filter: drop-shadow(0px 1px 2px rgba(0, 0, 0, 0.3));\n",
              "      fill: #FFFFFF;\n",
              "    }\n",
              "  </style>\n",
              "\n",
              "      <script>\n",
              "        const buttonEl =\n",
              "          document.querySelector('#df-04d3907c-9ea8-4df2-a2ed-347957a95dd2 button.colab-df-convert');\n",
              "        buttonEl.style.display =\n",
              "          google.colab.kernel.accessAllowed ? 'block' : 'none';\n",
              "\n",
              "        async function convertToInteractive(key) {\n",
              "          const element = document.querySelector('#df-04d3907c-9ea8-4df2-a2ed-347957a95dd2');\n",
              "          const dataTable =\n",
              "            await google.colab.kernel.invokeFunction('convertToInteractive',\n",
              "                                                     [key], {});\n",
              "          if (!dataTable) return;\n",
              "\n",
              "          const docLinkHtml = 'Like what you see? Visit the ' +\n",
              "            '<a target=\"_blank\" href=https://colab.research.google.com/notebooks/data_table.ipynb>data table notebook</a>'\n",
              "            + ' to learn more about interactive tables.';\n",
              "          element.innerHTML = '';\n",
              "          dataTable['output_type'] = 'display_data';\n",
              "          await google.colab.output.renderOutput(dataTable, element);\n",
              "          const docLink = document.createElement('div');\n",
              "          docLink.innerHTML = docLinkHtml;\n",
              "          element.appendChild(docLink);\n",
              "        }\n",
              "      </script>\n",
              "    </div>\n",
              "  </div>\n",
              "  "
            ]
          },
          "metadata": {}
        }
      ]
    },
    {
      "cell_type": "markdown",
      "source": [
        "Exibe a quarta linha "
      ],
      "metadata": {
        "id": "CEAsVbjSbyw_"
      }
    },
    {
      "cell_type": "code",
      "source": [
        "display(ca_df.loc[3])"
      ],
      "metadata": {
        "id": "wpqxkOlbb1n5",
        "colab": {
          "base_uri": "https://localhost:8080/",
          "height": 104
        },
        "outputId": "239fc30e-de92-43fd-83f5-79ea87a8b0c5"
      },
      "execution_count": 12,
      "outputs": [
        {
          "output_type": "display_data",
          "data": {
            "text/plain": [
              "Revenda           POSTO ARAPIRACA LTDA\n",
              "Municipio                    ARAPIRACA\n",
              "Produto             GASOLINA ADITIVADA\n",
              "Valor de Venda                   6.899\n",
              "Name: 3, dtype: object"
            ]
          },
          "metadata": {}
        }
      ]
    },
    {
      "cell_type": "markdown",
      "source": [
        "Exiber da décima linha a vigésima linha "
      ],
      "metadata": {
        "id": "5vVQXA7jdWgv"
      }
    },
    {
      "cell_type": "code",
      "source": [
        "display(ca_df.loc[9:19])"
      ],
      "metadata": {
        "colab": {
          "base_uri": "https://localhost:8080/",
          "height": 394
        },
        "id": "_zitxF-7dbjW",
        "outputId": "70b09f11-c7c6-4229-e503-5249dca117f6"
      },
      "execution_count": 13,
      "outputs": [
        {
          "output_type": "display_data",
          "data": {
            "text/plain": [
              "                                  Revenda        Municipio  \\\n",
              "9          AUTO POSTO FREITAS & MAIA LTDA  DELMIRO GOUVEIA   \n",
              "10               AUTO POSTO DA PEDRA LTDA  DELMIRO GOUVEIA   \n",
              "11               AUTO POSTO DA PEDRA LTDA  DELMIRO GOUVEIA   \n",
              "12               AUTO POSTO DA PEDRA LTDA  DELMIRO GOUVEIA   \n",
              "13               AUTO POSTO DA PEDRA LTDA  DELMIRO GOUVEIA   \n",
              "14  COMERCIO DE COMBUSTIVEIS NENZITA LTDA  DELMIRO GOUVEIA   \n",
              "15  COMERCIO DE COMBUSTIVEIS NENZITA LTDA  DELMIRO GOUVEIA   \n",
              "16  COMERCIO DE COMBUSTIVEIS NENZITA LTDA  DELMIRO GOUVEIA   \n",
              "17  COMERCIO DE COMBUSTIVEIS NENZITA LTDA  DELMIRO GOUVEIA   \n",
              "18  COMERCIO DE COMBUSTIVEIS NENZITA LTDA  DELMIRO GOUVEIA   \n",
              "19         MARCOS ANTONIO DA SILVA CABRAL      ITACOATIARA   \n",
              "\n",
              "               Produto  Valor de Venda  \n",
              "9           DIESEL S10           5.983  \n",
              "10            GASOLINA           7.197  \n",
              "11              ETANOL           5.987  \n",
              "12              DIESEL           5.978  \n",
              "13          DIESEL S10           5.989  \n",
              "14            GASOLINA           7.175  \n",
              "15              ETANOL           5.930  \n",
              "16              DIESEL           5.955  \n",
              "17  GASOLINA ADITIVADA           7.175  \n",
              "18          DIESEL S10           5.980  \n",
              "19            GASOLINA           6.990  "
            ],
            "text/html": [
              "\n",
              "  <div id=\"df-0a44246e-cffe-4828-b511-213e202a4ece\">\n",
              "    <div class=\"colab-df-container\">\n",
              "      <div>\n",
              "<style scoped>\n",
              "    .dataframe tbody tr th:only-of-type {\n",
              "        vertical-align: middle;\n",
              "    }\n",
              "\n",
              "    .dataframe tbody tr th {\n",
              "        vertical-align: top;\n",
              "    }\n",
              "\n",
              "    .dataframe thead th {\n",
              "        text-align: right;\n",
              "    }\n",
              "</style>\n",
              "<table border=\"1\" class=\"dataframe\">\n",
              "  <thead>\n",
              "    <tr style=\"text-align: right;\">\n",
              "      <th></th>\n",
              "      <th>Revenda</th>\n",
              "      <th>Municipio</th>\n",
              "      <th>Produto</th>\n",
              "      <th>Valor de Venda</th>\n",
              "    </tr>\n",
              "  </thead>\n",
              "  <tbody>\n",
              "    <tr>\n",
              "      <th>9</th>\n",
              "      <td>AUTO POSTO FREITAS &amp; MAIA LTDA</td>\n",
              "      <td>DELMIRO GOUVEIA</td>\n",
              "      <td>DIESEL S10</td>\n",
              "      <td>5.983</td>\n",
              "    </tr>\n",
              "    <tr>\n",
              "      <th>10</th>\n",
              "      <td>AUTO POSTO DA PEDRA LTDA</td>\n",
              "      <td>DELMIRO GOUVEIA</td>\n",
              "      <td>GASOLINA</td>\n",
              "      <td>7.197</td>\n",
              "    </tr>\n",
              "    <tr>\n",
              "      <th>11</th>\n",
              "      <td>AUTO POSTO DA PEDRA LTDA</td>\n",
              "      <td>DELMIRO GOUVEIA</td>\n",
              "      <td>ETANOL</td>\n",
              "      <td>5.987</td>\n",
              "    </tr>\n",
              "    <tr>\n",
              "      <th>12</th>\n",
              "      <td>AUTO POSTO DA PEDRA LTDA</td>\n",
              "      <td>DELMIRO GOUVEIA</td>\n",
              "      <td>DIESEL</td>\n",
              "      <td>5.978</td>\n",
              "    </tr>\n",
              "    <tr>\n",
              "      <th>13</th>\n",
              "      <td>AUTO POSTO DA PEDRA LTDA</td>\n",
              "      <td>DELMIRO GOUVEIA</td>\n",
              "      <td>DIESEL S10</td>\n",
              "      <td>5.989</td>\n",
              "    </tr>\n",
              "    <tr>\n",
              "      <th>14</th>\n",
              "      <td>COMERCIO DE COMBUSTIVEIS NENZITA LTDA</td>\n",
              "      <td>DELMIRO GOUVEIA</td>\n",
              "      <td>GASOLINA</td>\n",
              "      <td>7.175</td>\n",
              "    </tr>\n",
              "    <tr>\n",
              "      <th>15</th>\n",
              "      <td>COMERCIO DE COMBUSTIVEIS NENZITA LTDA</td>\n",
              "      <td>DELMIRO GOUVEIA</td>\n",
              "      <td>ETANOL</td>\n",
              "      <td>5.930</td>\n",
              "    </tr>\n",
              "    <tr>\n",
              "      <th>16</th>\n",
              "      <td>COMERCIO DE COMBUSTIVEIS NENZITA LTDA</td>\n",
              "      <td>DELMIRO GOUVEIA</td>\n",
              "      <td>DIESEL</td>\n",
              "      <td>5.955</td>\n",
              "    </tr>\n",
              "    <tr>\n",
              "      <th>17</th>\n",
              "      <td>COMERCIO DE COMBUSTIVEIS NENZITA LTDA</td>\n",
              "      <td>DELMIRO GOUVEIA</td>\n",
              "      <td>GASOLINA ADITIVADA</td>\n",
              "      <td>7.175</td>\n",
              "    </tr>\n",
              "    <tr>\n",
              "      <th>18</th>\n",
              "      <td>COMERCIO DE COMBUSTIVEIS NENZITA LTDA</td>\n",
              "      <td>DELMIRO GOUVEIA</td>\n",
              "      <td>DIESEL S10</td>\n",
              "      <td>5.980</td>\n",
              "    </tr>\n",
              "    <tr>\n",
              "      <th>19</th>\n",
              "      <td>MARCOS ANTONIO DA SILVA CABRAL</td>\n",
              "      <td>ITACOATIARA</td>\n",
              "      <td>GASOLINA</td>\n",
              "      <td>6.990</td>\n",
              "    </tr>\n",
              "  </tbody>\n",
              "</table>\n",
              "</div>\n",
              "      <button class=\"colab-df-convert\" onclick=\"convertToInteractive('df-0a44246e-cffe-4828-b511-213e202a4ece')\"\n",
              "              title=\"Convert this dataframe to an interactive table.\"\n",
              "              style=\"display:none;\">\n",
              "        \n",
              "  <svg xmlns=\"http://www.w3.org/2000/svg\" height=\"24px\"viewBox=\"0 0 24 24\"\n",
              "       width=\"24px\">\n",
              "    <path d=\"M0 0h24v24H0V0z\" fill=\"none\"/>\n",
              "    <path d=\"M18.56 5.44l.94 2.06.94-2.06 2.06-.94-2.06-.94-.94-2.06-.94 2.06-2.06.94zm-11 1L8.5 8.5l.94-2.06 2.06-.94-2.06-.94L8.5 2.5l-.94 2.06-2.06.94zm10 10l.94 2.06.94-2.06 2.06-.94-2.06-.94-.94-2.06-.94 2.06-2.06.94z\"/><path d=\"M17.41 7.96l-1.37-1.37c-.4-.4-.92-.59-1.43-.59-.52 0-1.04.2-1.43.59L10.3 9.45l-7.72 7.72c-.78.78-.78 2.05 0 2.83L4 21.41c.39.39.9.59 1.41.59.51 0 1.02-.2 1.41-.59l7.78-7.78 2.81-2.81c.8-.78.8-2.07 0-2.86zM5.41 20L4 18.59l7.72-7.72 1.47 1.35L5.41 20z\"/>\n",
              "  </svg>\n",
              "      </button>\n",
              "      \n",
              "  <style>\n",
              "    .colab-df-container {\n",
              "      display:flex;\n",
              "      flex-wrap:wrap;\n",
              "      gap: 12px;\n",
              "    }\n",
              "\n",
              "    .colab-df-convert {\n",
              "      background-color: #E8F0FE;\n",
              "      border: none;\n",
              "      border-radius: 50%;\n",
              "      cursor: pointer;\n",
              "      display: none;\n",
              "      fill: #1967D2;\n",
              "      height: 32px;\n",
              "      padding: 0 0 0 0;\n",
              "      width: 32px;\n",
              "    }\n",
              "\n",
              "    .colab-df-convert:hover {\n",
              "      background-color: #E2EBFA;\n",
              "      box-shadow: 0px 1px 2px rgba(60, 64, 67, 0.3), 0px 1px 3px 1px rgba(60, 64, 67, 0.15);\n",
              "      fill: #174EA6;\n",
              "    }\n",
              "\n",
              "    [theme=dark] .colab-df-convert {\n",
              "      background-color: #3B4455;\n",
              "      fill: #D2E3FC;\n",
              "    }\n",
              "\n",
              "    [theme=dark] .colab-df-convert:hover {\n",
              "      background-color: #434B5C;\n",
              "      box-shadow: 0px 1px 3px 1px rgba(0, 0, 0, 0.15);\n",
              "      filter: drop-shadow(0px 1px 2px rgba(0, 0, 0, 0.3));\n",
              "      fill: #FFFFFF;\n",
              "    }\n",
              "  </style>\n",
              "\n",
              "      <script>\n",
              "        const buttonEl =\n",
              "          document.querySelector('#df-0a44246e-cffe-4828-b511-213e202a4ece button.colab-df-convert');\n",
              "        buttonEl.style.display =\n",
              "          google.colab.kernel.accessAllowed ? 'block' : 'none';\n",
              "\n",
              "        async function convertToInteractive(key) {\n",
              "          const element = document.querySelector('#df-0a44246e-cffe-4828-b511-213e202a4ece');\n",
              "          const dataTable =\n",
              "            await google.colab.kernel.invokeFunction('convertToInteractive',\n",
              "                                                     [key], {});\n",
              "          if (!dataTable) return;\n",
              "\n",
              "          const docLinkHtml = 'Like what you see? Visit the ' +\n",
              "            '<a target=\"_blank\" href=https://colab.research.google.com/notebooks/data_table.ipynb>data table notebook</a>'\n",
              "            + ' to learn more about interactive tables.';\n",
              "          element.innerHTML = '';\n",
              "          dataTable['output_type'] = 'display_data';\n",
              "          await google.colab.output.renderOutput(dataTable, element);\n",
              "          const docLink = document.createElement('div');\n",
              "          docLink.innerHTML = docLinkHtml;\n",
              "          element.appendChild(docLink);\n",
              "        }\n",
              "      </script>\n",
              "    </div>\n",
              "  </div>\n",
              "  "
            ]
          },
          "metadata": {}
        }
      ]
    },
    {
      "cell_type": "code",
      "source": [
        "#Criar um dataframe gas_df\n",
        "#apenas 4 colunas\n",
        "#somente gasolina "
      ],
      "metadata": {
        "id": "oV3fpLLueafG"
      },
      "execution_count": null,
      "outputs": []
    },
    {
      "cell_type": "code",
      "source": [
        "gas_df = ca_df.loc[ca_df['Produto'] == 'GASOLINA']\n",
        "display(gas_df['Valor de Venda'].max())\n"
      ],
      "metadata": {
        "colab": {
          "base_uri": "https://localhost:8080/",
          "height": 34
        },
        "id": "04-hdSzLeyY6",
        "outputId": "79ed4bd2-bc45-4e0c-f961-7e8f39a6ec85"
      },
      "execution_count": 17,
      "outputs": [
        {
          "output_type": "display_data",
          "data": {
            "text/plain": [
              "7.999"
            ]
          },
          "metadata": {}
        }
      ]
    },
    {
      "cell_type": "code",
      "source": [
        "#Mostrar municipio da gasolina mais cara do brasil "
      ],
      "metadata": {
        "id": "E5V5NY6uhXY0"
      },
      "execution_count": null,
      "outputs": []
    },
    {
      "cell_type": "code",
      "source": [
        "display(gas_df[['Revenda','Valor de Venda','Municipio']].max())"
      ],
      "metadata": {
        "colab": {
          "base_uri": "https://localhost:8080/",
          "height": 86
        },
        "id": "Yo8P7S9bheea",
        "outputId": "97806629-6950-4c52-e10f-a63b57a700f7"
      },
      "execution_count": 19,
      "outputs": [
        {
          "output_type": "display_data",
          "data": {
            "text/plain": [
              "Revenda           ZV POSTO DE SERVIÇO LTDA.\n",
              "Valor de Venda                        7.999\n",
              "Municipio                           XANXERE\n",
              "dtype: object"
            ]
          },
          "metadata": {}
        }
      ]
    }
  ],
  "metadata": {
    "colab": {
      "provenance": [],
      "toc_visible": true,
      "include_colab_link": true
    },
    "kernelspec": {
      "display_name": "Python 3",
      "name": "python3"
    }
  },
  "nbformat": 4,
  "nbformat_minor": 0
}