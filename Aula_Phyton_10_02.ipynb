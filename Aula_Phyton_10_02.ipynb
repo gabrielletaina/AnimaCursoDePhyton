{
  "cells": [
    {
      "cell_type": "markdown",
      "metadata": {
        "id": "view-in-github",
        "colab_type": "text"
      },
      "source": [
        "<a href=\"https://colab.research.google.com/github/gabrielletaina/AnimaCursoDePhyton/blob/main/Aula_Phyton_10_02.ipynb\" target=\"_parent\"><img src=\"https://colab.research.google.com/assets/colab-badge.svg\" alt=\"Open In Colab\"/></a>"
      ]
    },
    {
      "cell_type": "markdown",
      "source": [
        "AULA 07/02"
      ],
      "metadata": {
        "id": "zG3KfdmO5V_i"
      }
    },
    {
      "cell_type": "markdown",
      "source": [
        "importando arquivo e chamando biblioteca pandas"
      ],
      "metadata": {
        "id": "FLExyzI4-sup"
      }
    },
    {
      "cell_type": "code",
      "source": [
        "import pandas as pd"
      ],
      "metadata": {
        "id": "2TXIKWrK5X2F"
      },
      "execution_count": 2,
      "outputs": []
    },
    {
      "cell_type": "code",
      "source": [
        "combustiveis_df = pd.read_excel(\"ca-2021-02.xlsx\")"
      ],
      "metadata": {
        "id": "Bmtqq8Y4JnUb"
      },
      "execution_count": 32,
      "outputs": []
    },
    {
      "cell_type": "markdown",
      "source": [],
      "metadata": {
        "id": "985rCfRqBmQE"
      }
    },
    {
      "cell_type": "code",
      "source": [
        "print(combustiveis_df)"
      ],
      "metadata": {
        "id": "2vdJzKG1BNGK"
      },
      "execution_count": null,
      "outputs": []
    },
    {
      "cell_type": "code",
      "source": [
        "display(combustiveis_df)"
      ],
      "metadata": {
        "id": "cPpzMeLdCNtv"
      },
      "execution_count": null,
      "outputs": []
    },
    {
      "cell_type": "code",
      "source": [
        "display(combustiveis_df.head(15))"
      ],
      "metadata": {
        "id": "IVNtPidvCfPO"
      },
      "execution_count": null,
      "outputs": []
    },
    {
      "cell_type": "code",
      "source": [
        "display(combustiveis_df.shape)"
      ],
      "metadata": {
        "id": "6xz-baOJLuoa"
      },
      "execution_count": null,
      "outputs": []
    },
    {
      "cell_type": "markdown",
      "source": [
        "Mostra as estatitiscas mais básicas "
      ],
      "metadata": {
        "id": "6sWLmSqVTuYI"
      }
    },
    {
      "cell_type": "code",
      "source": [
        "display(combustiveis_df.describe())"
      ],
      "metadata": {
        "id": "_hl2b-zrMEH8"
      },
      "execution_count": null,
      "outputs": []
    },
    {
      "cell_type": "markdown",
      "source": [
        "Mostra o tipo de cada info"
      ],
      "metadata": {
        "id": "unPV2JMxT29V"
      }
    },
    {
      "cell_type": "code",
      "source": [
        "display(combustiveis_df.info())"
      ],
      "metadata": {
        "id": "OxAeyBeoNm1A"
      },
      "execution_count": null,
      "outputs": []
    },
    {
      "cell_type": "markdown",
      "source": [
        "  FILTRAR SOMENTE 1 COLUNA"
      ],
      "metadata": {
        "id": "xkE6DOBkYXy3"
      }
    },
    {
      "cell_type": "code",
      "source": [
        "display(combustiveis_df['Revenda'])"
      ],
      "metadata": {
        "id": "eZnv8VdHYbhP"
      },
      "execution_count": null,
      "outputs": []
    },
    {
      "cell_type": "code",
      "source": [
        "ca_df = combustiveis_df [['Revenda', 'Municipio', 'Produto' ,'Valor de Venda']]\n",
        "display (ca_df)"
      ],
      "metadata": {
        "id": "EnHvPuNLZrdD"
      },
      "execution_count": null,
      "outputs": []
    },
    {
      "cell_type": "markdown",
      "source": [
        "Exibe a quarta linha "
      ],
      "metadata": {
        "id": "CEAsVbjSbyw_"
      }
    },
    {
      "cell_type": "code",
      "source": [
        "display(ca_df.loc[3])"
      ],
      "metadata": {
        "id": "wpqxkOlbb1n5"
      },
      "execution_count": null,
      "outputs": []
    },
    {
      "cell_type": "markdown",
      "source": [
        "Exiber da décima linha a vigésima linha "
      ],
      "metadata": {
        "id": "5vVQXA7jdWgv"
      }
    },
    {
      "cell_type": "code",
      "source": [
        "display(ca_df.loc[9:19])"
      ],
      "metadata": {
        "id": "_zitxF-7dbjW"
      },
      "execution_count": null,
      "outputs": []
    },
    {
      "cell_type": "code",
      "source": [
        "#Criar um dataframe gas_df\n",
        "#apenas 4 colunas\n",
        "#somente gasolina "
      ],
      "metadata": {
        "id": "oV3fpLLueafG"
      },
      "execution_count": 14,
      "outputs": []
    },
    {
      "cell_type": "code",
      "source": [
        "gas_df = ca_df.loc[ca_df['Produto'] == 'GASOLINA']\n",
        "display(gas_df['Valor de Venda'].max())\n"
      ],
      "metadata": {
        "colab": {
          "base_uri": "https://localhost:8080/",
          "height": 34
        },
        "id": "04-hdSzLeyY6",
        "outputId": "2bfb8069-4a10-480d-b3dd-b33e1bc7a83b"
      },
      "execution_count": 15,
      "outputs": [
        {
          "output_type": "display_data",
          "data": {
            "text/plain": [
              "7.999"
            ]
          },
          "metadata": {}
        }
      ]
    },
    {
      "cell_type": "code",
      "source": [
        "#Mostrar municipio da gasolina mais cara do brasil "
      ],
      "metadata": {
        "id": "E5V5NY6uhXY0"
      },
      "execution_count": 16,
      "outputs": []
    },
    {
      "cell_type": "code",
      "source": [
        "display(gas_df[['Revenda','Valor de Venda','Municipio']].max())"
      ],
      "metadata": {
        "id": "Yo8P7S9bheea",
        "colab": {
          "base_uri": "https://localhost:8080/",
          "height": 86
        },
        "outputId": "1dc2c147-965b-475d-adf4-c3b4cf87f979"
      },
      "execution_count": 17,
      "outputs": [
        {
          "output_type": "display_data",
          "data": {
            "text/plain": [
              "Revenda           ZV POSTO DE SERVIÇO LTDA.\n",
              "Valor de Venda                        7.999\n",
              "Municipio                           XANXERE\n",
              "dtype: object"
            ]
          },
          "metadata": {}
        }
      ]
    },
    {
      "cell_type": "code",
      "source": [
        "#DataFrame.loc[] com múltiplas condições para filtragem\n",
        "#Quais são os preços, postos que vendem ETANOL na minha cidade (INDAIATUBA) \n",
        "#ordenado do menor valor de venda para o maior\n",
        "\n",
        "etanol_indaiatuba_df = ca_df.loc[(ca_df['Produto'] == 'ETANOL') & (ca_df['Municipio'] == 'INDAIATUBA')]\n",
        "display(etanol_indaiatuba_df.sort_values(by='Valor de Venda'))"
      ],
      "metadata": {
        "id": "E5KAXAidK93n"
      },
      "execution_count": null,
      "outputs": []
    },
    {
      "cell_type": "code",
      "source": [
        "#Qual a média de preços dos combustívels GASOLINA e GASOLINA ADTIVADA do Bairro MOOCA"
      ],
      "metadata": {
        "id": "zo3wEvYYPr-R"
      },
      "execution_count": 19,
      "outputs": []
    },
    {
      "cell_type": "code",
      "source": [
        "combustiveis_df.loc[(combustiveis_df['Bairro'] == 'MOOCA') & \n",
        "                    (combustiveis_df['Municipio'] == 'SAO PAULO') & (combustiveis_df['Produto'] == 'GASOLINA') | (combustiveis_df['Produto'] == 'GASOLINA ADITIVADA')]"
      ],
      "metadata": {
        "id": "Oj_l_nnoP2Qu"
      },
      "execution_count": null,
      "outputs": []
    },
    {
      "cell_type": "code",
      "source": [
        "#Filtrando mais de um produto usando o .isin "
      ],
      "metadata": {
        "id": "015q2XEJeg1l"
      },
      "execution_count": 21,
      "outputs": []
    },
    {
      "cell_type": "code",
      "source": [
        "display(combustiveis_df.loc[(combustiveis_df['Bairro'] == 'MOOCA') & \n",
        "                            (combustiveis_df['Municipio'] == 'SAO PAULO') & \n",
        "                            (combustiveis_df['Produto'].isin([\"GASOLINA\", \"GASOLINA ADITIVADA\"])), \n",
        "                            ['Valor de Venda']].mean())"
      ],
      "metadata": {
        "id": "w349VThndQAD",
        "outputId": "842bf7fe-5c8d-4744-f88c-349c506425ab",
        "colab": {
          "base_uri": "https://localhost:8080/",
          "height": 52
        }
      },
      "execution_count": 22,
      "outputs": [
        {
          "output_type": "display_data",
          "data": {
            "text/plain": [
              "Valor de Venda    6.575596\n",
              "dtype: float64"
            ]
          },
          "metadata": {}
        }
      ]
    },
    {
      "cell_type": "code",
      "source": [
        "#COMO MOSTRAR A MEDIA DE VALOR DE VENDA POR COMBUSTÍVEL"
      ],
      "metadata": {
        "id": "dY4nF3CCele2"
      },
      "execution_count": 23,
      "outputs": []
    },
    {
      "cell_type": "code",
      "source": [
        "media_por_combustivel_df = ca_df[['Valor de Venda', 'Produto']].groupby(by='Produto').mean()\n",
        "display(media_por_combustivel_df)"
      ],
      "metadata": {
        "id": "_42XtF2ifR78"
      },
      "execution_count": null,
      "outputs": []
    },
    {
      "cell_type": "code",
      "source": [
        "#COMO MOSTRAR A MEDIA DE VALOR DE VENDA POR COMBUSTÍVEL SÓ COM DUAS CASAS DECIMAIS"
      ],
      "metadata": {
        "id": "_d6E5kngjgpV"
      },
      "execution_count": 25,
      "outputs": []
    },
    {
      "cell_type": "code",
      "source": [
        "media_por_combustivel_df = ca_df[['Produto', 'Valor de Venda']].groupby(by='Produto').mean().round(2)\n",
        "display(media_por_combustivel_df)\n"
      ],
      "metadata": {
        "id": "O5yelaQpjkRF"
      },
      "execution_count": null,
      "outputs": []
    },
    {
      "cell_type": "code",
      "source": [
        "#Quero adicionar uma nova coluna de valor booleano chamado \"aTIVO\"\n",
        "#que por padrão vai ser \"true\" em todas as linhas "
      ],
      "metadata": {
        "id": "lsMiK81kkJOx"
      },
      "execution_count": 27,
      "outputs": []
    },
    {
      "cell_type": "code",
      "source": [
        "combustiveis_df['Ativo'] = True \n",
        "display(combustiveis_df)"
      ],
      "metadata": {
        "id": "MyJL0kZGkYvE"
      },
      "execution_count": null,
      "outputs": []
    },
    {
      "cell_type": "code",
      "source": [
        "combustiveis_df['Obs'] = \"Melhor Cidade\" if combustiveis_df['MUNICIPIO'] == \"INDAIATUBA\" else \" \""
      ],
      "metadata": {
        "id": "FJvp88yAmghe"
      },
      "execution_count": null,
      "outputs": []
    },
    {
      "cell_type": "code",
      "source": [
        "#Exportar para excel "
      ],
      "metadata": {
        "id": "Em8U4ab7nXWN"
      },
      "execution_count": null,
      "outputs": []
    },
    {
      "cell_type": "code",
      "source": [
        "etanol_indaiatuba_df.to_excel('etanol_indaiatuba.xlsx', sheet_name='Etanol em Indaiatuba')"
      ],
      "metadata": {
        "id": "HqaE7F5oo4Up"
      },
      "execution_count": null,
      "outputs": []
    },
    {
      "cell_type": "code",
      "source": [
        "# (por Leandro Rodrigues)\n",
        "# como preencher uma coluna 'Valor de Venda - Status' que verifica o seguinte:\n",
        "# se o valor de venda for maior que 6,5 reais, ele fala que tá Caro..caso contrário, está barato\n",
        "import numpy as np\n",
        "\n",
        "combustiveis_df['Status do Valor de Venda'] = np.where(combustiveis_df['Valor de Venda'] > 6.5, 'Caro', 'Barato')\n",
        "display(combustiveis_df[['Revenda', 'Valor de Venda', 'Status do Valor de Venda']])"
      ],
      "metadata": {
        "id": "SnqedNmiYBsC"
      },
      "execution_count": null,
      "outputs": []
    },
    {
      "cell_type": "code",
      "source": [
        "# Criar uma coluna \"Obs\" que tenha nela escrito \"MELHOR CIDADE\" quando a coluna Municipio for igual a SAO PAULO"
      ],
      "metadata": {
        "id": "ybAxFAY5ZpsY"
      },
      "execution_count": null,
      "outputs": []
    },
    {
      "cell_type": "code",
      "source": [
        "combustiveis_df['Obs'] = [\"MELHOR CIDADE\" if municipio == 'SAO PAULO' else None for municipio in combustiveis_df['Municipio']]\n",
        "display(combustiveis_df.loc[combustiveis_df['Municipio'].isin(['SAO PAULO','INDAIATUBA', 'CAMPINAS', 'SALTO']), ['Municipio', 'Obs']])"
      ],
      "metadata": {
        "id": "Vq6UrP_NZoLc"
      },
      "execution_count": null,
      "outputs": []
    },
    {
      "cell_type": "code",
      "source": [
        "#Calcular postos por habitante "
      ],
      "metadata": {
        "id": "erh--SqyZsoo"
      },
      "execution_count": null,
      "outputs": []
    },
    {
      "cell_type": "code",
      "source": [
        "num_habitantes_df = pd.read_csv(\"ibge_num_habitantes_estimado.csv\", sep=\";\")\n",
        "num_habitantes_df.rename(columns={\"Estado\":\"Estado - Sigla\"}, inplace = True)\n",
        "display(num_habitantes_df)"
      ],
      "metadata": {
        "id": "ZpQRld4kZ3Xz"
      },
      "execution_count": null,
      "outputs": []
    },
    {
      "cell_type": "code",
      "source": [
        "#Fazer um merge dos dataframes"
      ],
      "metadata": {
        "id": "wPdl8JfvSv2x"
      },
      "execution_count": null,
      "outputs": []
    },
    {
      "cell_type": "code",
      "source": [
        "# Faz um MERGE dos dois dataframes\n",
        "colunas = ['Municipio', 'Estado - Sigla']\n",
        "merge_df = combustiveis_df.merge(num_habitantes_df, how=\"inner\", on=colunas)\n",
        "display(merge_df)\n",
        "print(merge_df.info())"
      ],
      "metadata": {
        "id": "NSSUQCULQr6D"
      },
      "execution_count": null,
      "outputs": []
    },
    {
      "cell_type": "code",
      "source": [
        "#Destruir coluna completamente vazia "
      ],
      "metadata": {
        "id": "VD02_0xwcZFt"
      },
      "execution_count": null,
      "outputs": []
    },
    {
      "cell_type": "code",
      "source": [
        "#Destruir coluna completamente vazia (todas as linhas são nulas)\n",
        "merge_df.dropna(axis='columns', inplace=True)\n",
        "print(merge_df.info())"
      ],
      "metadata": {
        "id": "Tdo25shAdZn3"
      },
      "execution_count": null,
      "outputs": []
    },
    {
      "cell_type": "code",
      "source": [
        "colunas=['Regiao - Sigla', 'Nome da Rua', 'Numero Rua', \n",
        "         'Bairro', 'Cep', 'Produto', 'Data da Coleta', 'Valor de Venda',\n",
        "         'Unidade de Medida', 'Bandeira', 'Ativo', 'Status do Valor de Venda']\n",
        "merge_df.drop(labels=colunas, axis=1, inplace=True)\n",
        "print(merge_df.info())\n"
      ],
      "metadata": {
        "id": "2EbzyP17edU8"
      },
      "execution_count": null,
      "outputs": []
    },
    {
      "cell_type": "code",
      "source": [
        "# Remover a linhas duplicadas\n",
        "merge_df.drop_duplicates(inplace=True)\n",
        "display(merge_df.head(100))"
      ],
      "metadata": {
        "id": "dX4rQ7Aajs6U"
      },
      "execution_count": null,
      "outputs": []
    },
    {
      "cell_type": "code",
      "source": [
        "#Agrupar e contar quantos postos tem na cidade..\n",
        "postos_por_municipio_df = merge_df.groupby(by=['Estado - Sigla', 'Municipio', 'NumHabitantes2021']).count()\n",
        "postos_por_municipio_df.drop('CNPJ da Revenda', axis=1, inplace=True)\n",
        "postos_por_municipio_df.rename(columns={\"Revenda\": \"Número de Postos\"}, inplace=True)\n",
        "display(postos_por_municipio_df)"
      ],
      "metadata": {
        "id": "Cn34aJ8sjiy1"
      },
      "execution_count": null,
      "outputs": []
    },
    {
      "cell_type": "code",
      "source": [
        "#Agrupar e contar quantos postos tem na cidade..\n",
        "postos_por_municipio_df = merge_df.groupby(by=['Estado - Sigla', 'Municipio', 'NumHabitantes2021']).count()\n",
        "postos_por_municipio_df.reset_index(inplace=True)\n",
        "#display(postos_por_municipio_df.info())\n",
        "postos_por_municipio_df.drop('CNPJ da Revenda', axis=1, inplace=True)\n",
        "postos_por_municipio_df.rename(columns={\"Revenda\": \"NumPostos\"}, inplace=True)\n",
        "\n",
        "postos_por_municipio_df['NumHabitantesPorPosto'] = postos_por_municipio_df['NumHabitantes2021'] / postos_por_municipio_df['NumPostos']\n",
        "#display(postos_por_municipio_df.info())\n",
        "display(postos_por_municipio_df)"
      ],
      "metadata": {
        "id": "pBeoyy4FfJ3f"
      },
      "execution_count": null,
      "outputs": []
    },
    {
      "cell_type": "code",
      "source": [
        "#Vamos brincar de gráficos!!!\n",
        "\n",
        "import matplotlib.pyplot as plt\n",
        "\n",
        "plt.hist(combustiveis_df['Valor de Venda'])\n",
        "#Vamos colocar um título no gráfico\n",
        "plt.title(\"Preço dos combustíveis - Nov/2021\")\n",
        "#Rótulo horizontal e vertical\n",
        "plt.xlabel(\"Preço (em reais)\")\n",
        "plt.ylabel(\"Quantidade de Coletas\")\n",
        "\n",
        "#Traça a linha vermelha tracejada com o preço médio\n",
        "plt.axvline(combustiveis_df['Valor de Venda'].mean(), color='red', linestyle='dashed', linewidth=5)\n",
        "\n",
        "\n",
        "#\"Plota\" o gráfico\n",
        "plt.show()"
      ],
      "metadata": {
        "id": "l8scsUKbh7hZ"
      },
      "execution_count": null,
      "outputs": []
    },
    {
      "cell_type": "code",
      "source": [
        "#Vou definir a área do gráfico\n",
        "plt.figure(figsize=(7,5))\n",
        "\n",
        "#Plotar o gráfico\n",
        "c_mean.plot(\n",
        "    kind=\"barh\",\n",
        "    xlabel=\"Tipo de Combustível\",\n",
        "    ylabel=\"Preço reais/litro\",\n",
        "    color=\"red\"\n",
        ")\n",
        "\n",
        "#Grid\n",
        "plt.grid()\n",
        "\n",
        "#Exibe\n",
        "plt.show()"
      ],
      "metadata": {
        "id": "1TqLmfdTh9WN"
      },
      "execution_count": null,
      "outputs": []
    },
    {
      "cell_type": "code",
      "source": [
        "#c_mean.reset_index(inplace=True)\n",
        "display(c_mean)\n",
        "\n",
        "excel = \"por_litro.xlsx\"\n",
        "c_mean.to_excel(excel, \"Sumário\")"
      ],
      "metadata": {
        "id": "RZTkS-DawVpo"
      },
      "execution_count": null,
      "outputs": []
    },
    {
      "cell_type": "code",
      "source": [
        "#Vamor personalizar a planilha Excel...\n",
        "from openpyxl import load_workbook\n",
        "from openpyxl.styles import PatternFill, Font, Color, Alignment\n",
        "\n",
        "#Vai abrir o Excel no openpyxl\n",
        "wb = load_workbook(excel) # wb = Workbook\n",
        "\n",
        "#Pegar a planilha certa... usando o Sheet Name (nome da planilha)\n",
        "ws = wb['Sumário'] # Work Sheet -> planilha atual, ativa, de trabalho\n",
        "\n",
        "#Vamos pintar o cabeçalho da tabela de \"cinzinha\"\n",
        "cinzinha = PatternFill(\"solid\", fgColor=\"CCCCCC\")\n",
        "coords = ['A1', 'B1']\n",
        "for coord in coords:\n",
        "  ws[coord].fill = cinzinha\n",
        "\n",
        "#Onde o preço do combustível for maior ou igual a 6,5 reais (6.5) pinta a fonte\n",
        "#de vermelho e deixa negrito...\n",
        "MAX_ROW = ws.max_row\n",
        "num_linha = 2\n",
        "while (num_linha <= MAX_ROW):\n",
        "  coord = 'B'+str(num_linha) #coord=\"B{0}\".format(num_linha)\n",
        "  if ws[coord].value >= 6.5:\n",
        "    ws[coord].font = Font(bold=True, color=\"FF0000\")\n",
        "  num_linha = num_linha + 1\n",
        "#Salvar o Excel\n",
        "wb.save(excel)"
      ],
      "metadata": {
        "id": "e0a7xy8mwX36"
      },
      "execution_count": null,
      "outputs": []
    }
  ],
  "metadata": {
    "colab": {
      "provenance": [],
      "include_colab_link": true
    },
    "kernelspec": {
      "display_name": "Python 3",
      "name": "python3"
    }
  },
  "nbformat": 4,
  "nbformat_minor": 0
}